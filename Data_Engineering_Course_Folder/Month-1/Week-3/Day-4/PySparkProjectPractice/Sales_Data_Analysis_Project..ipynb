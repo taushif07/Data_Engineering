{
 "cells": [
  {
   "cell_type": "code",
   "execution_count": 16,
   "metadata": {},
   "outputs": [
    {
     "name": "stdout",
     "output_type": "stream",
     "text": [
      "+----------+-----------+----------+--------+------------+\n",
      "|Product_ID|Customer_ID|Order_date|Location|Source_order|\n",
      "+----------+-----------+----------+--------+------------+\n",
      "|1         |A          |2023-01-01|India   |Swiggy      |\n",
      "|2         |A          |2022-01-01|India   |Swiggy      |\n",
      "|2         |A          |2023-01-07|India   |Swiggy      |\n",
      "|3         |A          |2023-01-10|India   |Restaurant  |\n",
      "|3         |A          |2022-01-11|India   |Swiggy      |\n",
      "|3         |A          |2023-01-11|India   |Restaurant  |\n",
      "|2         |B          |2022-02-01|India   |Swiggy      |\n",
      "|2         |B          |2023-01-02|India   |Swiggy      |\n",
      "|1         |B          |2023-01-04|India   |Restaurant  |\n",
      "|1         |B          |2023-02-11|India   |Swiggy      |\n",
      "+----------+-----------+----------+--------+------------+\n",
      "only showing top 10 rows\n",
      "\n",
      "+----------+------------+-------------+\n",
      "|Product_ID|Product_name|Product_price|\n",
      "+----------+------------+-------------+\n",
      "|1         | PIZZA      | 100         |\n",
      "|2         | Chowmin    | 150         |\n",
      "|3         | sandwich   | 120         |\n",
      "|4         | Dosa       | 110         |\n",
      "|5         | Biryani    | 80          |\n",
      "|6         | Pasta      | 180         |\n",
      "+----------+------------+-------------+\n",
      "\n"
     ]
    }
   ],
   "source": [
    "from pyspark.sql import SparkSession, functions as func\n",
    "from pyspark.sql.types import StructType, StructField, IntegerType, DateType, StringType\n",
    "\n",
    "spark = SparkSession.builder.master(\"local[*]\").appName(\"Sales_App\").getOrCreate()\n",
    "\n",
    "sales_schema = StructType(\n",
    "    [\n",
    "        StructField(\"Product_ID\", IntegerType(), True),\n",
    "        StructField(\"Customer_ID\", StringType(), True),\n",
    "        StructField(\"Order_date\", DateType(), True),\n",
    "        StructField(\"Location\", StringType(), True),\n",
    "        StructField(\"Source_order\", StringType(), True),\n",
    "    ]\n",
    ")\n",
    "\n",
    "menu_schema = StructType(\n",
    "    [\n",
    "        StructField(\"Product_ID\", IntegerType(), True),\n",
    "        StructField(\"Product_name\", StringType(), True),\n",
    "        StructField(\"Product_price\", StringType(), True),\n",
    "    ]\n",
    ")\n",
    "\n",
    "sales_df = spark.read.csv(\"./sales.csv.txt\", inferSchema=True, schema=sales_schema)\n",
    "menu_df = spark.read.csv(\"./menu.csv.txt\", inferSchema=True, schema=menu_schema)\n",
    "\n",
    "sales_df.show(10, truncate=False)\n",
    "menu_df.show(10, truncate=False)"
   ]
  },
  {
   "cell_type": "code",
   "execution_count": 17,
   "metadata": {},
   "outputs": [
    {
     "name": "stdout",
     "output_type": "stream",
     "text": [
      "+-----------+------------------+\n",
      "|Customer_ID|Total_Amount_Spent|\n",
      "+-----------+------------------+\n",
      "|          B|            4440.0|\n",
      "|          A|            4260.0|\n",
      "|          C|            2400.0|\n",
      "|          E|            2040.0|\n",
      "|          D|            1200.0|\n",
      "+-----------+------------------+\n",
      "\n"
     ]
    }
   ],
   "source": [
    "# Question 1: Total amount spent by each customer\n",
    "\n",
    "Total_Amount_Spent_Per_Customer = (\n",
    "    sales_df.join(menu_df, sales_df[\"Product_ID\"] == menu_df[\"Product_ID\"])\n",
    "    .groupBy(func.col(\"Customer_ID\"))\n",
    "    .agg(func.sum(\"Product_price\").alias(\"Total_Amount_Spent\"))\n",
    "    .orderBy(func.desc(\"Total_Amount_Spent\"))\n",
    ")\n",
    "\n",
    "Total_Amount_Spent_Per_Customer.show()"
   ]
  },
  {
   "cell_type": "code",
   "execution_count": 18,
   "metadata": {},
   "outputs": [
    {
     "name": "stdout",
     "output_type": "stream",
     "text": [
      "+------------+------------------+\n",
      "|Product_name|Total_Amount_Spent|\n",
      "+------------+------------------+\n",
      "|    sandwich|            5760.0|\n",
      "|     Chowmin|            3600.0|\n",
      "|       PIZZA|            2100.0|\n",
      "|        Dosa|            1320.0|\n",
      "|       Pasta|            1080.0|\n",
      "|     Biryani|             480.0|\n",
      "+------------+------------------+\n",
      "\n"
     ]
    }
   ],
   "source": [
    "# Question 2: Total amount spent on each food category\n",
    "\n",
    "Total_Amount_Spent_Per_Food_Category = (\n",
    "    sales_df.join(menu_df, sales_df[\"Product_ID\"] == menu_df[\"Product_ID\"])\n",
    "    .groupBy(func.col(\"Product_name\"))\n",
    "    .agg(func.sum(\"Product_price\").alias(\"Total_Amount_Spent\"))\n",
    "    .orderBy(func.desc(\"Total_Amount_Spent\"))\n",
    ")\n",
    "\n",
    "Total_Amount_Spent_Per_Food_Category.show()"
   ]
  },
  {
   "cell_type": "code",
   "execution_count": 19,
   "metadata": {},
   "outputs": [
    {
     "name": "stdout",
     "output_type": "stream",
     "text": [
      "+-----------+------------------+\n",
      "|Order_Month|Total_Amount_Spent|\n",
      "+-----------+------------------+\n",
      "|          1|            2960.0|\n",
      "|          2|            2730.0|\n",
      "|          3|             910.0|\n",
      "|          5|            2960.0|\n",
      "|          6|            2960.0|\n",
      "|          7|             910.0|\n",
      "|         11|             910.0|\n",
      "+-----------+------------------+\n",
      "\n"
     ]
    }
   ],
   "source": [
    "# Question 3: Total Amount of sales in each month\n",
    "\n",
    "Total_Amount_Of_Sales_Each_Month = (\n",
    "    sales_df.withColumn(\"Month\", func.month(func.col(\"Order_date\")))\n",
    "    .join(menu_df, sales_df[\"Product_ID\"] == menu_df[\"Product_ID\"])\n",
    "    .groupBy(func.col(\"Month\").alias(\"Order_Month\"))\n",
    "    .agg(func.sum(\"Product_price\").alias(\"Total_Amount_Spent\"))\n",
    "    .orderBy(func.asc(\"Order_Month\"))\n",
    ")\n",
    "\n",
    "Total_Amount_Of_Sales_Each_Month.show()"
   ]
  },
  {
   "cell_type": "code",
   "execution_count": 20,
   "metadata": {},
   "outputs": [
    {
     "name": "stdout",
     "output_type": "stream",
     "text": [
      "+----------+------------------+\n",
      "|Order_Year|Total_Amount_Spent|\n",
      "+----------+------------------+\n",
      "|      2022|            4350.0|\n",
      "|      2023|            9990.0|\n",
      "+----------+------------------+\n",
      "\n"
     ]
    }
   ],
   "source": [
    "# Question 4: Total Amount of sales yearly\n",
    "\n",
    "Total_Amount_Of_Sales_Yearly = (\n",
    "    sales_df.withColumn(\"Year\", func.year(func.col(\"Order_date\")))\n",
    "    .join(menu_df, sales_df[\"Product_ID\"] == menu_df[\"Product_ID\"])\n",
    "    .groupBy(func.col(\"Year\").alias(\"Order_Year\"))\n",
    "    .agg(func.sum(func.col(\"Product_price\")).alias(\"Total_Amount_Spent\"))\n",
    "    .orderBy(func.asc(func.col(\"Order_Year\")))\n",
    ")\n",
    "\n",
    "Total_Amount_Of_Sales_Yearly.show()"
   ]
  },
  {
   "cell_type": "code",
   "execution_count": 21,
   "metadata": {},
   "outputs": [
    {
     "name": "stdout",
     "output_type": "stream",
     "text": [
      "+------------+------------------+\n",
      "|Order_Quater|Total_Amount_Spent|\n",
      "+------------+------------------+\n",
      "|           1|            6600.0|\n",
      "|           2|            5920.0|\n",
      "|           3|             910.0|\n",
      "|           4|             910.0|\n",
      "+------------+------------------+\n",
      "\n"
     ]
    }
   ],
   "source": [
    "# Question 5: Total Amount of Sales quaterly\n",
    "\n",
    "Total_Amount_Of_Sales_Quaterly = (\n",
    "    sales_df.withColumn(\"Quater\", func.quarter(func.col(\"Order_date\")))\n",
    "    .join(menu_df, sales_df[\"Product_ID\"] == menu_df[\"Product_ID\"])\n",
    "    .groupBy(func.col(\"Quater\").alias(\"Order_Quater\"))\n",
    "    .agg(func.sum(func.col(\"Product_price\")).alias(\"Total_Amount_Spent\"))\n",
    "    .orderBy(func.asc(func.col(\"Order_Quater\")))\n",
    ")\n",
    "\n",
    "Total_Amount_Of_Sales_Quaterly.show()"
   ]
  },
  {
   "cell_type": "code",
   "execution_count": 22,
   "metadata": {},
   "outputs": [
    {
     "name": "stdout",
     "output_type": "stream",
     "text": [
      "+----------+------------+---------------------+\n",
      "|Product_ID|Product_name|Total_Items_Purchased|\n",
      "+----------+------------+---------------------+\n",
      "|         3|    sandwich|                   48|\n",
      "|         2|     Chowmin|                   24|\n",
      "|         1|       PIZZA|                   21|\n",
      "|         4|        Dosa|                   12|\n",
      "|         5|     Biryani|                    6|\n",
      "|         6|       Pasta|                    6|\n",
      "+----------+------------+---------------------+\n",
      "\n"
     ]
    }
   ],
   "source": [
    "# Question 6: How many times each product has been purchased\n",
    "\n",
    "No_Of_Times_Each_Product_Purchased = (\n",
    "    sales_df.join(menu_df, sales_df[\"Product_ID\"] == menu_df[\"Product_ID\"])\n",
    "    .drop(menu_df[\"Product_ID\"])\n",
    "    .groupBy(func.col(\"Product_ID\"), func.col(\"Product_name\"))\n",
    "    .agg(func.count(func.col(\"Product_ID\")).alias(\"Total_Items_Purchased\"))\n",
    "    .orderBy(func.desc(func.col(\"Total_Items_Purchased\")))\n",
    ")\n",
    "\n",
    "No_Of_Times_Each_Product_Purchased.show()"
   ]
  },
  {
   "cell_type": "code",
   "execution_count": 23,
   "metadata": {},
   "outputs": [
    {
     "name": "stdout",
     "output_type": "stream",
     "text": [
      "+----------+------------+---------------------+\n",
      "|Product_ID|Product_name|Total_Items_Purchased|\n",
      "+----------+------------+---------------------+\n",
      "|         3|    sandwich|                   48|\n",
      "|         2|     Chowmin|                   24|\n",
      "|         1|       PIZZA|                   21|\n",
      "|         4|        Dosa|                   12|\n",
      "|         5|     Biryani|                    6|\n",
      "+----------+------------+---------------------+\n",
      "\n"
     ]
    }
   ],
   "source": [
    "# Question 7: find the top 5 Order Items\n",
    "\n",
    "Top_Five_Order = (\n",
    "    sales_df.join(menu_df, sales_df[\"Product_ID\"] == menu_df[\"Product_ID\"])\n",
    "    .drop(menu_df[\"Product_ID\"])\n",
    "    .groupBy(func.col(\"Product_ID\"), func.col(\"Product_name\"))\n",
    "    .agg(func.count(func.col(\"Product_ID\")).alias(\"Total_Items_Purchased\"))\n",
    "    .orderBy(func.desc(func.col(\"Total_Items_Purchased\")))\n",
    "    .limit(5)\n",
    ")\n",
    "\n",
    "Top_Five_Order.show()"
   ]
  },
  {
   "cell_type": "code",
   "execution_count": 24,
   "metadata": {},
   "outputs": [
    {
     "name": "stdout",
     "output_type": "stream",
     "text": [
      "+-----------+------------------+\n",
      "|Customer_ID|Customer_Frequency|\n",
      "+-----------+------------------+\n",
      "|          B|                36|\n",
      "|          A|                33|\n",
      "|          E|                18|\n",
      "|          C|                18|\n",
      "|          D|                12|\n",
      "+-----------+------------------+\n",
      "\n"
     ]
    }
   ],
   "source": [
    "# Question 8: find the frequency of customer visited\n",
    "\n",
    "Frequency_Of_Customer_Visited = (\n",
    "    sales_df.groupBy(func.col(\"Customer_ID\"))\n",
    "    .agg(func.count(func.col(\"Customer_ID\")).alias(\"Customer_Frequency\"))\n",
    "    .orderBy(func.desc(func.col(\"Customer_Frequency\")))\n",
    ")\n",
    "\n",
    "Frequency_Of_Customer_Visited.show()"
   ]
  },
  {
   "cell_type": "code",
   "execution_count": 25,
   "metadata": {},
   "outputs": [
    {
     "name": "stdout",
     "output_type": "stream",
     "text": [
      "+-----------+------------------+\n",
      "|Customer_ID|Customer_Frequency|\n",
      "+-----------+------------------+\n",
      "|          A|                 9|\n",
      "|          E|                 6|\n",
      "|          B|                 6|\n",
      "|          D|                 3|\n",
      "|          C|                 3|\n",
      "+-----------+------------------+\n",
      "\n"
     ]
    }
   ],
   "source": [
    "# Question 9: find the frequency of customer visited to the Restaurant\n",
    "\n",
    "Frequency_Of_Customer_Visited_To_Restaurant = (\n",
    "    sales_df.filter(func.col(\"Source_order\") == \"Restaurant\")\n",
    "    .groupBy(func.col(\"Customer_ID\"))\n",
    "    .agg(func.count(func.col(\"Customer_ID\")).alias(\"Customer_Frequency\"))\n",
    "    .orderBy(func.desc(func.col(\"Customer_Frequency\")))\n",
    ")\n",
    "\n",
    "Frequency_Of_Customer_Visited_To_Restaurant.show()"
   ]
  },
  {
   "cell_type": "code",
   "execution_count": 26,
   "metadata": {},
   "outputs": [
    {
     "name": "stdout",
     "output_type": "stream",
     "text": [
      "+-------+---------------------+\n",
      "|Country|Total_Amount_Of_Sales|\n",
      "+-------+---------------------+\n",
      "|     UK|               7020.0|\n",
      "|  India|               4860.0|\n",
      "|    USA|               2460.0|\n",
      "+-------+---------------------+\n",
      "\n"
     ]
    }
   ],
   "source": [
    "# Question 10: Find the total sales by each country\n",
    "\n",
    "Total_Sales_By_Each_Country = (\n",
    "    sales_df.join(menu_df, sales_df[\"Product_ID\"] == menu_df[\"Product_ID\"])\n",
    "    .groupBy(func.col(\"Location\").alias(\"Country\"))\n",
    "    .agg(func.sum(func.col(\"Product_price\")).alias(\"Total_Amount_Of_Sales\"))\n",
    "    .orderBy(func.desc(func.col(\"Total_Amount_Of_Sales\")))\n",
    ")\n",
    "\n",
    "Total_Sales_By_Each_Country.show()"
   ]
  },
  {
   "cell_type": "code",
   "execution_count": 27,
   "metadata": {},
   "outputs": [
    {
     "name": "stdout",
     "output_type": "stream",
     "text": [
      "+----------+--------------------+\n",
      "|    Source|Total_Ordered_Amount|\n",
      "+----------+--------------------+\n",
      "|    Swiggy|              6330.0|\n",
      "|    zomato|              4920.0|\n",
      "|Restaurant|              3090.0|\n",
      "+----------+--------------------+\n",
      "\n"
     ]
    }
   ],
   "source": [
    "# Question 11: Find the total sales by order source\n",
    "\n",
    "Total_Sales_By_Order_Source = (\n",
    "    sales_df.join(menu_df, sales_df[\"Product_ID\"] == menu_df[\"Product_ID\"])\n",
    "    .groupBy(func.col(\"Source_order\").alias(\"Source\"))\n",
    "    .agg(func.sum(func.col(\"Product_price\")).alias(\"Total_Ordered_Amount\"))\n",
    "    .orderBy(func.desc(func.col(\"Total_Ordered_Amount\")))\n",
    ")\n",
    "\n",
    "Total_Sales_By_Order_Source.show()"
   ]
  }
 ],
 "metadata": {
  "kernelspec": {
   "display_name": "Python 3",
   "language": "python",
   "name": "python3"
  },
  "language_info": {
   "codemirror_mode": {
    "name": "ipython",
    "version": 3
   },
   "file_extension": ".py",
   "mimetype": "text/x-python",
   "name": "python",
   "nbconvert_exporter": "python",
   "pygments_lexer": "ipython3",
   "version": "3.10.12"
  }
 },
 "nbformat": 4,
 "nbformat_minor": 2
}
