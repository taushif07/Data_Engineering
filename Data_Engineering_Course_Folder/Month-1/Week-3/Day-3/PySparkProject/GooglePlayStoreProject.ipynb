{
 "cells": [
  {
   "cell_type": "code",
   "execution_count": 3,
   "metadata": {},
   "outputs": [
    {
     "name": "stderr",
     "output_type": "stream",
     "text": [
      "24/02/17 14:39:40 WARN Utils: Your hostname, taushif-HP-Laptop-15s-fr2xxx resolves to a loopback address: 127.0.1.1; using 192.168.1.37 instead (on interface wlo1)\n",
      "24/02/17 14:39:40 WARN Utils: Set SPARK_LOCAL_IP if you need to bind to another address\n",
      "Setting default log level to \"WARN\".\n",
      "To adjust logging level use sc.setLogLevel(newLevel). For SparkR, use setLogLevel(newLevel).\n",
      "24/02/17 14:39:42 WARN NativeCodeLoader: Unable to load native-hadoop library for your platform... using builtin-java classes where applicable\n",
      "                                                                                \r"
     ]
    },
    {
     "name": "stdout",
     "output_type": "stream",
     "text": [
      "root\n",
      " |-- App: string (nullable = true)\n",
      " |-- Category: string (nullable = true)\n",
      " |-- Rating: string (nullable = true)\n",
      " |-- Reviews: string (nullable = true)\n",
      " |-- Size: string (nullable = true)\n",
      " |-- Installs: string (nullable = true)\n",
      " |-- Type: string (nullable = true)\n",
      " |-- Price: string (nullable = true)\n",
      " |-- Content Rating: string (nullable = true)\n",
      " |-- Genres: string (nullable = true)\n",
      " |-- Last Updated: string (nullable = true)\n",
      " |-- Current Ver: string (nullable = true)\n",
      " |-- Android Ver: string (nullable = true)\n",
      "\n",
      "+--------------------------------------------------+--------------+------+-------+----+-----------+----+-----+--------------+-------------------------+------------------+------------------+------------+\n",
      "|App                                               |Category      |Rating|Reviews|Size|Installs   |Type|Price|Content Rating|Genres                   |Last Updated      |Current Ver       |Android Ver |\n",
      "+--------------------------------------------------+--------------+------+-------+----+-----------+----+-----+--------------+-------------------------+------------------+------------------+------------+\n",
      "|Photo Editor & Candy Camera & Grid & ScrapBook    |ART_AND_DESIGN|4.1   |159    |19M |10,000+    |Free|0    |Everyone      |Art & Design             |January 7, 2018   |1.0.0             |4.0.3 and up|\n",
      "|Coloring book moana                               |ART_AND_DESIGN|3.9   |967    |14M |500,000+   |Free|0    |Everyone      |Art & Design;Pretend Play|January 15, 2018  |2.0.0             |4.0.3 and up|\n",
      "|U Launcher Lite – FREE Live Cool Themes, Hide Apps|ART_AND_DESIGN|4.7   |87510  |8.7M|5,000,000+ |Free|0    |Everyone      |Art & Design             |August 1, 2018    |1.2.4             |4.0.3 and up|\n",
      "|Sketch - Draw & Paint                             |ART_AND_DESIGN|4.5   |215644 |25M |50,000,000+|Free|0    |Teen          |Art & Design             |June 8, 2018      |Varies with device|4.2 and up  |\n",
      "|Pixel Draw - Number Art Coloring Book             |ART_AND_DESIGN|4.3   |967    |2.8M|100,000+   |Free|0    |Everyone      |Art & Design;Creativity  |June 20, 2018     |1.1               |4.4 and up  |\n",
      "|Paper flowers instructions                        |ART_AND_DESIGN|4.4   |167    |5.6M|50,000+    |Free|0    |Everyone      |Art & Design             |March 26, 2017    |1.0               |2.3 and up  |\n",
      "|Smoke Effect Photo Maker - Smoke Editor           |ART_AND_DESIGN|3.8   |178    |19M |50,000+    |Free|0    |Everyone      |Art & Design             |April 26, 2018    |1.1               |4.0.3 and up|\n",
      "|Infinite Painter                                  |ART_AND_DESIGN|4.1   |36815  |29M |1,000,000+ |Free|0    |Everyone      |Art & Design             |June 14, 2018     |6.1.61.1          |4.2 and up  |\n",
      "|Garden Coloring Book                              |ART_AND_DESIGN|4.4   |13791  |33M |1,000,000+ |Free|0    |Everyone      |Art & Design             |September 20, 2017|2.9.2             |3.0 and up  |\n",
      "|Kids Paint Free - Drawing Fun                     |ART_AND_DESIGN|4.7   |121    |3.1M|10,000+    |Free|0    |Everyone      |Art & Design;Creativity  |July 3, 2018      |2.8               |4.0.3 and up|\n",
      "|Text on Photo - Fonteee                           |ART_AND_DESIGN|4.4   |13880  |28M |1,000,000+ |Free|0    |Everyone      |Art & Design             |October 27, 2017  |1.0.4             |4.1 and up  |\n",
      "|Name Art Photo Editor - Focus n Filters           |ART_AND_DESIGN|4.4   |8788   |12M |1,000,000+ |Free|0    |Everyone      |Art & Design             |July 31, 2018     |1.0.15            |4.0 and up  |\n",
      "|Tattoo Name On My Photo Editor                    |ART_AND_DESIGN|4.2   |44829  |20M |10,000,000+|Free|0    |Teen          |Art & Design             |April 2, 2018     |3.8               |4.1 and up  |\n",
      "|Mandala Coloring Book                             |ART_AND_DESIGN|4.6   |4326   |21M |100,000+   |Free|0    |Everyone      |Art & Design             |June 26, 2018     |1.0.4             |4.4 and up  |\n",
      "|3D Color Pixel by Number - Sandbox Art Coloring   |ART_AND_DESIGN|4.4   |1518   |37M |100,000+   |Free|0    |Everyone      |Art & Design             |August 3, 2018    |1.2.3             |2.3 and up  |\n",
      "|Learn To Draw Kawaii Characters                   |ART_AND_DESIGN|3.2   |55     |2.7M|5,000+     |Free|0    |Everyone      |Art & Design             |June 6, 2018      |NaN               |4.2 and up  |\n",
      "|Photo Designer - Write your name with shapes      |ART_AND_DESIGN|4.7   |3632   |5.5M|500,000+   |Free|0    |Everyone      |Art & Design             |July 31, 2018     |3.1               |4.1 and up  |\n",
      "|350 Diy Room Decor Ideas                          |ART_AND_DESIGN|4.5   |27     |17M |10,000+    |Free|0    |Everyone      |Art & Design             |November 7, 2017  |1.0               |2.3 and up  |\n",
      "|FlipaClip - Cartoon animation                     |ART_AND_DESIGN|4.3   |194216 |39M |5,000,000+ |Free|0    |Everyone      |Art & Design             |August 3, 2018    |2.2.5             |4.0.3 and up|\n",
      "|ibis Paint X                                      |ART_AND_DESIGN|4.6   |224399 |31M |10,000,000+|Free|0    |Everyone      |Art & Design             |July 30, 2018     |5.5.4             |4.1 and up  |\n",
      "+--------------------------------------------------+--------------+------+-------+----+-----------+----+-----+--------------+-------------------------+------------------+------------------+------------+\n",
      "only showing top 20 rows\n",
      "\n",
      "1\n"
     ]
    }
   ],
   "source": [
    "from pyspark.sql import SparkSession\n",
    "\n",
    "spark = (\n",
    "    SparkSession.builder.master(\"local[5]\")\n",
    "    .appName(\"Airport_Data_Project\")\n",
    "    .getOrCreate()\n",
    ")\n",
    "\n",
    "df = spark.read.csv(\"./googleplaystore.csv\", header=True, inferSchema=True)\n",
    "\n",
    "df.printSchema()\n",
    "df.show(truncate=False)\n",
    "df.rdd.repartition(4)\n",
    "print(df.rdd.getNumPartitions())"
   ]
  },
  {
   "cell_type": "code",
   "execution_count": 5,
   "metadata": {},
   "outputs": [
    {
     "name": "stderr",
     "output_type": "stream",
     "text": [
      "[Stage 4:>                                                          (0 + 1) / 1]\r"
     ]
    },
    {
     "name": "stdout",
     "output_type": "stream",
     "text": [
      "+----------------------------------------+-------------+\n",
      "|App                                     |Total_Reviews|\n",
      "+----------------------------------------+-------------+\n",
      "|Instagram                               |266241989    |\n",
      "|WhatsApp Messenger                      |207348304    |\n",
      "|Clash of Clans                          |179558781    |\n",
      "|Messenger – Text and Video Chat for Free|169932272    |\n",
      "|Subway Surfers                          |166331958    |\n",
      "|Candy Crush Saga                        |156993136    |\n",
      "|Facebook                                |156286514    |\n",
      "|8 Ball Pool                             |99386198     |\n",
      "|Clash Royale                            |92530298     |\n",
      "|Snapchat                                |68045010     |\n",
      "+----------------------------------------+-------------+\n",
      "\n"
     ]
    },
    {
     "name": "stderr",
     "output_type": "stream",
     "text": [
      "                                                                                \r"
     ]
    }
   ],
   "source": [
    "# Question 1 : Find the top 10 reviews given to the apps\n",
    "from pyspark.sql import functions as func\n",
    "\n",
    "Top_Reviews_Apps = (\n",
    "    df.withColumn(\"Reviews\", func.col(\"Reviews\").cast(\"int\"))\n",
    "    .groupBy(func.col(\"App\"))\n",
    "    .agg(func.sum(func.col(\"Reviews\")).alias(\"Total_Reviews\"))\n",
    "    .orderBy(func.desc(func.col(\"Total_Reviews\")))\n",
    "    .limit(10)\n",
    ")\n",
    "\n",
    "Top_Reviews_Apps.show(truncate=False)"
   ]
  },
  {
   "cell_type": "code",
   "execution_count": 14,
   "metadata": {},
   "outputs": [
    {
     "name": "stderr",
     "output_type": "stream",
     "text": [
      "[Stage 10:>                                                         (0 + 1) / 1]\r"
     ]
    },
    {
     "name": "stdout",
     "output_type": "stream",
     "text": [
      "+----------------------------------------+------------------------+\n",
      "|App                                     |Total_No_Of_Installation|\n",
      "+----------------------------------------+------------------------+\n",
      "|Subway Surfers                          |6000000000              |\n",
      "|Instagram                               |4000000000              |\n",
      "|Hangouts                                |4000000000              |\n",
      "|Google Drive                            |4000000000              |\n",
      "|Google News                             |4000000000              |\n",
      "|Google Photos                           |4000000000              |\n",
      "|Candy Crush Saga                        |3500000000              |\n",
      "|WhatsApp Messenger                      |3000000000              |\n",
      "|Messenger – Text and Video Chat for Free|3000000000              |\n",
      "|Google Chrome: Fast & Secure            |3000000000              |\n",
      "+----------------------------------------+------------------------+\n",
      "\n"
     ]
    },
    {
     "name": "stderr",
     "output_type": "stream",
     "text": [
      "                                                                                \r"
     ]
    }
   ],
   "source": [
    "# Question 2 : Top 10 installed apps distribution of type (free or paid)\n",
    "from pyspark.sql import functions as func\n",
    "\n",
    "Top_Installed_App = (\n",
    "    df.withColumn(\"Installs\", func.regexp_replace(func.col(\"Installs\"), \"[^0-9]\", \"\"))\n",
    "    .withColumn(\"Installs\", func.col(\"Installs\").cast(\"int\"))\n",
    "    .groupBy(func.col(\"App\"))\n",
    "    .agg(func.sum(func.col(\"Installs\")).alias(\"Total_No_Of_Installation\"))\n",
    "    .orderBy(func.desc(func.col(\"Total_No_Of_Installation\")))\n",
    "    .limit(10)\n",
    ")\n",
    "\n",
    "Top_Installed_App.show(truncate=False)"
   ]
  },
  {
   "cell_type": "code",
   "execution_count": 15,
   "metadata": {},
   "outputs": [
    {
     "name": "stdout",
     "output_type": "stream",
     "text": [
      "+-------------------+\n",
      "|Category           |\n",
      "+-------------------+\n",
      "|EVENTS             |\n",
      "|COMICS             |\n",
      "|SPORTS             |\n",
      "|WEATHER            |\n",
      "|VIDEO_PLAYERS      |\n",
      "|AUTO_AND_VEHICLES  |\n",
      "|PARENTING          |\n",
      "|ENTERTAINMENT      |\n",
      "|PERSONALIZATION    |\n",
      "|HEALTH_AND_FITNESS |\n",
      "|TRAVEL_AND_LOCAL   |\n",
      "|BOOKS_AND_REFERENCE|\n",
      "|FOOD_AND_DRINK     |\n",
      "|PHOTOGRAPHY        |\n",
      "|BUSINESS           |\n",
      "|FAMILY             |\n",
      "|SHOPPING           |\n",
      "|HOUSE_AND_HOME     |\n",
      "|GAME               |\n",
      "|Face               |\n",
      "+-------------------+\n",
      "only showing top 20 rows\n",
      "\n"
     ]
    }
   ],
   "source": [
    "# Question 3 : Category-wise distribution of installed Apps\n",
    "\n",
    "All_Category_Of_Apps = df.select(\"Category\").distinct()\n",
    "\n",
    "All_Category_Of_Apps.show(truncate=False)"
   ]
  },
  {
   "cell_type": "code",
   "execution_count": 23,
   "metadata": {},
   "outputs": [
    {
     "name": "stdout",
     "output_type": "stream",
     "text": [
      "+--------------------------+----+------------------------+\n",
      "|App                       |Type|Total_No_Of_Installation|\n",
      "+--------------------------+----+------------------------+\n",
      "|Minecraft                 |Paid|20000000                |\n",
      "|Hitman Sniper             |Paid|10000000                |\n",
      "|Facetune - For Free       |Paid|3000000                 |\n",
      "|Beautiful Widgets Pro     |Paid|2000000                 |\n",
      "|HD Widgets                |Paid|2000000                 |\n",
      "|True Skate                |Paid|1000000                 |\n",
      "|Tasker                    |Paid|1000000                 |\n",
      "|Card Wars - Adventure Time|Paid|1000000                 |\n",
      "|Toca Life: City           |Paid|1000000                 |\n",
      "|Bloons TD 5               |Paid|1000000                 |\n",
      "+--------------------------+----+------------------------+\n",
      "\n"
     ]
    }
   ],
   "source": [
    "# Question 4 : Top paid Apps\n",
    "\n",
    "Top_Paid_Apps = (\n",
    "    df.filter(func.col(\"Type\") == \"Paid\")\n",
    "    .withColumn(\"Installs\", func.regexp_replace(func.col(\"Installs\"), \"[^0-9]\", \"\"))\n",
    "    .withColumn(\"Installs\", func.col(\"Installs\").cast(\"int\"))\n",
    "    .groupBy(func.col(\"App\"), func.col(\"Type\"))\n",
    "    .agg(func.sum(func.col(\"Installs\")).alias(\"Total_No_Of_Installation\"))\n",
    "    .orderBy(func.desc(func.col(\"Total_No_Of_Installation\")))\n",
    "    .limit(10)\n",
    ")\n",
    "\n",
    "Top_Paid_Apps.show(truncate=False)"
   ]
  },
  {
   "cell_type": "code",
   "execution_count": 26,
   "metadata": {},
   "outputs": [
    {
     "name": "stdout",
     "output_type": "stream",
     "text": [
      "+----------------------------------------+----+----------+\n",
      "|App                                     |Type|Avg_Rating|\n",
      "+----------------------------------------+----+----------+\n",
      "|P-Home for KLWP                         |Paid|5.0       |\n",
      "|Chronolink DX                           |Paid|5.0       |\n",
      "|USMLE Step 2 CK Flashcards              |Paid|5.0       |\n",
      "|FHR 5-Tier 2.0                          |Paid|5.0       |\n",
      "|AP Art History Flashcards               |Paid|5.0       |\n",
      "|Mu.F.O.                                 |Paid|5.0       |\n",
      "|FO Bixby                                |Paid|5.0       |\n",
      "|Morse Player                            |Paid|5.0       |\n",
      "|Super Hearing Secret Voices Recorder PRO|Paid|5.0       |\n",
      "|Android P Style Icon Pack               |Paid|5.0       |\n",
      "+----------------------------------------+----+----------+\n",
      "\n"
     ]
    }
   ],
   "source": [
    "# Question 5 : Top paid rating apps\n",
    "\n",
    "Top_Rated_Paid_Apps = (\n",
    "    df.filter(func.col(\"Type\") == \"Paid\")\n",
    "    .withColumn(\"Rating\", func.col(\"Rating\").cast(\"int\"))\n",
    "    .groupBy(func.col(\"App\"), func.col(\"Type\"))\n",
    "    .agg(func.avg(func.col(\"Rating\")).alias(\"Avg_Rating\"))\n",
    "    .orderBy(func.desc(\"Avg_Rating\"))\n",
    "    .limit(10)\n",
    ")\n",
    "\n",
    "Top_Rated_Paid_Apps.show(truncate=False)"
   ]
  }
 ],
 "metadata": {
  "kernelspec": {
   "display_name": "Python 3",
   "language": "python",
   "name": "python3"
  },
  "language_info": {
   "codemirror_mode": {
    "name": "ipython",
    "version": 3
   },
   "file_extension": ".py",
   "mimetype": "text/x-python",
   "name": "python",
   "nbconvert_exporter": "python",
   "pygments_lexer": "ipython3",
   "version": "3.10.12"
  }
 },
 "nbformat": 4,
 "nbformat_minor": 2
}
