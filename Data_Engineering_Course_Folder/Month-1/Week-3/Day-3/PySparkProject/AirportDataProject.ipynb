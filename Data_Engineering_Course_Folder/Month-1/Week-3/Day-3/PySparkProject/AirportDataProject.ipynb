{
 "cells": [
  {
   "cell_type": "code",
   "execution_count": 15,
   "metadata": {},
   "outputs": [
    {
     "name": "stderr",
     "output_type": "stream",
     "text": [
      "[Stage 37:==============================================>           (4 + 1) / 5]\r"
     ]
    },
    {
     "name": "stdout",
     "output_type": "stream",
     "text": [
      "root\n",
      " |-- Origin_airport: string (nullable = true)\n",
      " |-- Destination_airport: string (nullable = true)\n",
      " |-- Origin_city: string (nullable = true)\n",
      " |-- Destination_city: string (nullable = true)\n",
      " |-- Passengers: integer (nullable = true)\n",
      " |-- Seats: integer (nullable = true)\n",
      " |-- Flights: integer (nullable = true)\n",
      " |-- Distance: integer (nullable = true)\n",
      " |-- Fly_date: date (nullable = true)\n",
      " |-- Origin_population: integer (nullable = true)\n",
      " |-- Destination_population: integer (nullable = true)\n",
      " |-- Org_airport_lat: string (nullable = true)\n",
      " |-- Org_airport_long: string (nullable = true)\n",
      " |-- Dest_airport_lat: string (nullable = true)\n",
      " |-- Dest_airport_long: string (nullable = true)\n",
      "\n",
      "+--------------+-------------------+-------------+----------------+----------+-----+-------+--------+----------+-----------------+----------------------+----------------+-----------------+----------------+-----------------+\n",
      "|Origin_airport|Destination_airport|Origin_city  |Destination_city|Passengers|Seats|Flights|Distance|Fly_date  |Origin_population|Destination_population|Org_airport_lat |Org_airport_long |Dest_airport_lat|Dest_airport_long|\n",
      "+--------------+-------------------+-------------+----------------+----------+-----+-------+--------+----------+-----------------+----------------------+----------------+-----------------+----------------+-----------------+\n",
      "|MHK           |AMW                |Manhattan, KS|Ames, IA        |21        |30   |1      |254     |2008-10-01|122049           |86219                 |39.140998840332 |-96.6707992553711|NA              |NA               |\n",
      "|EUG           |RDM                |Eugene, OR   |Bend, OR        |41        |396  |22     |103     |1990-11-01|284093           |76034                 |44.1245994567871|-123.21199798584 |44.2541008      |-121.1500015     |\n",
      "|EUG           |RDM                |Eugene, OR   |Bend, OR        |88        |342  |19     |103     |1990-12-01|284093           |76034                 |44.1245994567871|-123.21199798584 |44.2541008      |-121.1500015     |\n",
      "|EUG           |RDM                |Eugene, OR   |Bend, OR        |11        |72   |4      |103     |1990-10-01|284093           |76034                 |44.1245994567871|-123.21199798584 |44.2541008      |-121.1500015     |\n",
      "|MFR           |RDM                |Medford, OR  |Bend, OR        |0         |18   |1      |156     |1990-02-01|147300           |76034                 |42.3741989135742|-122.873001098633|44.2541008      |-121.1500015     |\n",
      "|MFR           |RDM                |Medford, OR  |Bend, OR        |11        |18   |1      |156     |1990-03-01|147300           |76034                 |42.3741989135742|-122.873001098633|44.2541008      |-121.1500015     |\n",
      "|MFR           |RDM                |Medford, OR  |Bend, OR        |2         |72   |4      |156     |1990-01-01|147300           |76034                 |42.3741989135742|-122.873001098633|44.2541008      |-121.1500015     |\n",
      "|MFR           |RDM                |Medford, OR  |Bend, OR        |7         |18   |1      |156     |1990-09-01|147300           |76034                 |42.3741989135742|-122.873001098633|44.2541008      |-121.1500015     |\n",
      "|MFR           |RDM                |Medford, OR  |Bend, OR        |7         |36   |2      |156     |1990-11-01|147300           |76034                 |42.3741989135742|-122.873001098633|44.2541008      |-121.1500015     |\n",
      "|SEA           |RDM                |Seattle, WA  |Bend, OR        |8         |18   |1      |228     |1990-02-01|5154164          |76034                 |47.4490013122559|-122.30899810791 |44.2541008      |-121.1500015     |\n",
      "|SEA           |RDM                |Seattle, WA  |Bend, OR        |453       |3128 |23     |228     |1990-01-01|5154164          |76034                 |47.4490013122559|-122.30899810791 |44.2541008      |-121.1500015     |\n",
      "|SEA           |RDM                |Seattle, WA  |Bend, OR        |784       |2720 |20     |228     |1990-02-01|5154164          |76034                 |47.4490013122559|-122.30899810791 |44.2541008      |-121.1500015     |\n",
      "|SEA           |RDM                |Seattle, WA  |Bend, OR        |749       |2992 |22     |228     |1990-03-01|5154164          |76034                 |47.4490013122559|-122.30899810791 |44.2541008      |-121.1500015     |\n",
      "|SEA           |RDM                |Seattle, WA  |Bend, OR        |11        |18   |1      |228     |1990-04-01|5154164          |76034                 |47.4490013122559|-122.30899810791 |44.2541008      |-121.1500015     |\n",
      "|PDX           |RDM                |Portland, OR |Bend, OR        |349       |851  |23     |116     |1990-01-01|1534762          |76034                 |45.58869934     |-122.5979996     |44.2541008      |-121.1500015     |\n",
      "|PDX           |RDM                |Portland, OR |Bend, OR        |1376      |2898 |161    |116     |1990-01-01|1534762          |76034                 |45.58869934     |-122.5979996     |44.2541008      |-121.1500015     |\n",
      "|PDX           |RDM                |Portland, OR |Bend, OR        |444       |1110 |30     |116     |1990-10-01|1534762          |76034                 |45.58869934     |-122.5979996     |44.2541008      |-121.1500015     |\n",
      "|PDX           |RDM                |Portland, OR |Bend, OR        |1949      |3261 |187    |116     |1990-06-01|1534762          |76034                 |45.58869934     |-122.5979996     |44.2541008      |-121.1500015     |\n",
      "|PDX           |RDM                |Portland, OR |Bend, OR        |381       |814  |22     |116     |1990-02-01|1534762          |76034                 |45.58869934     |-122.5979996     |44.2541008      |-121.1500015     |\n",
      "|PDX           |RDM                |Portland, OR |Bend, OR        |1559      |2772 |154    |116     |1990-02-01|1534762          |76034                 |45.58869934     |-122.5979996     |44.2541008      |-121.1500015     |\n",
      "+--------------+-------------------+-------------+----------------+----------+-----+-------+--------+----------+-----------------+----------------------+----------------+-----------------+----------------+-----------------+\n",
      "only showing top 20 rows\n",
      "\n",
      "5\n"
     ]
    },
    {
     "name": "stderr",
     "output_type": "stream",
     "text": [
      "                                                                                \r"
     ]
    }
   ],
   "source": [
    "from pyspark.sql import SparkSession\n",
    "\n",
    "spark = (\n",
    "    SparkSession.builder.master(\"local[5]\")\n",
    "    .appName(\"Airport_Data_Project\")\n",
    "    .getOrCreate()\n",
    ")\n",
    "\n",
    "df = spark.read.csv(\"./Airports2.csv\", header=True, inferSchema=True)\n",
    "\n",
    "df.printSchema()\n",
    "df.show(truncate=False)\n",
    "print(df.rdd.getNumPartitions())"
   ]
  },
  {
   "cell_type": "code",
   "execution_count": 20,
   "metadata": {},
   "outputs": [
    {
     "name": "stderr",
     "output_type": "stream",
     "text": [
      "[Stage 59:==============================================>           (4 + 1) / 5]\r"
     ]
    },
    {
     "name": "stdout",
     "output_type": "stream",
     "text": [
      "+-------+-----------------+\n",
      "|Airport|Number_Of_Flights|\n",
      "+-------+-----------------+\n",
      "|ORD    |6908482          |\n",
      "|ATL    |6558015          |\n",
      "|DFW    |5994638          |\n",
      "|LAX    |4099901          |\n",
      "|DTW    |3452613          |\n",
      "|PHX    |3213108          |\n",
      "|MSP    |3204923          |\n",
      "|IAH    |3195062          |\n",
      "|STL    |3181102          |\n",
      "|CLT    |2840773          |\n",
      "+-------+-----------------+\n",
      "only showing top 10 rows\n",
      "\n"
     ]
    },
    {
     "name": "stderr",
     "output_type": "stream",
     "text": [
      "                                                                                \r"
     ]
    }
   ],
   "source": [
    "# Question1 : Find the airport highest no of flight departures\n",
    "from pyspark.sql import functions as func\n",
    "\n",
    "highestNumOfFlightDepartures = (\n",
    "    df.groupBy(func.col(\"Origin_airport\").alias(\"Airport\"))\n",
    "    .agg(func.sum(func.col(\"Flights\")).alias(\"Number_Of_Flights\"))\n",
    "    .orderBy(func.desc(\"Number_Of_Flights\"))\n",
    ")\n",
    "highestNumOfFlightDepartures.show(10, truncate=False)"
   ]
  },
  {
   "cell_type": "code",
   "execution_count": 19,
   "metadata": {},
   "outputs": [
    {
     "name": "stderr",
     "output_type": "stream",
     "text": [
      "[Stage 56:==============================================>           (4 + 1) / 5]\r"
     ]
    },
    {
     "name": "stdout",
     "output_type": "stream",
     "text": [
      "+-------+------------------------+\n",
      "|Airport|Total_Passengers_Arrived|\n",
      "+-------+------------------------+\n",
      "|ATL    |577124268               |\n",
      "|ORD    |529018110               |\n",
      "|DFW    |457153720               |\n",
      "|LAX    |393005676               |\n",
      "|PHX    |295857703               |\n",
      "|LAS    |270590248               |\n",
      "|DTW    |250983023               |\n",
      "|MSP    |245197238               |\n",
      "|SFO    |243779917               |\n",
      "|IAH    |228367851               |\n",
      "+-------+------------------------+\n",
      "only showing top 10 rows\n",
      "\n"
     ]
    },
    {
     "name": "stderr",
     "output_type": "stream",
     "text": [
      "                                                                                \r"
     ]
    }
   ],
   "source": [
    "# Question2 : Find the Airport with Highest Number of Passenger Arrivals\n",
    "from pyspark.sql import functions as func\n",
    "\n",
    "highestNoOfPassengersArrival = (\n",
    "    df.groupBy(func.col(\"Origin_airport\").alias(\"Airport\"))\n",
    "    .agg(func.sum(func.col(\"Passengers\")).alias(\"Total_Passengers_Arrived\"))\n",
    "    .orderBy(func.desc(\"Total_Passengers_Arrived\"))\n",
    ")\n",
    "highestNoOfPassengersArrival.show(10, truncate=False)"
   ]
  },
  {
   "cell_type": "code",
   "execution_count": 18,
   "metadata": {},
   "outputs": [
    {
     "name": "stderr",
     "output_type": "stream",
     "text": [
      "[Stage 51:==================================>                       (3 + 2) / 5]\r"
     ]
    },
    {
     "name": "stdout",
     "output_type": "stream",
     "text": [
      "+-------+---------------------+\n",
      "|Airport|Total_Airport_Traffic|\n",
      "+-------+---------------------+\n",
      "|ORD    |13804767             |\n",
      "|ATL    |13102774             |\n",
      "|DFW    |11982524             |\n",
      "|LAX    |8196603              |\n",
      "|DTW    |6900655              |\n",
      "|PHX    |6421985              |\n",
      "|MSP    |6405105              |\n",
      "|IAH    |6391830              |\n",
      "|STL    |6358741              |\n",
      "|CLT    |5677880              |\n",
      "+-------+---------------------+\n",
      "only showing top 10 rows\n",
      "\n"
     ]
    },
    {
     "name": "stderr",
     "output_type": "stream",
     "text": [
      "                                                                                \r"
     ]
    }
   ],
   "source": [
    "# Question3 : Find the Airport with Most Flight Traffic\n",
    "from pyspark.sql import functions as func\n",
    "\n",
    "origin_airport_traffic = (\n",
    "    df.groupBy(func.col(\"Origin_airport\"))\n",
    "    .agg(func.sum(func.col(\"Flights\")).alias(\"Origin_airport_Traffic\"))\n",
    "    .orderBy(func.desc(\"Origin_airport_Traffic\"))\n",
    ")\n",
    "\n",
    "destination_airport_traffic = (\n",
    "    df.groupBy(func.col(\"Destination_airport\"))\n",
    "    .agg(func.sum(func.col(\"Flights\")).alias(\"Destination_airport_traffic\"))\n",
    "    .orderBy(func.desc(\"Destination_airport_traffic\"))\n",
    ")\n",
    "\n",
    "AirportWithMostTraffic = (\n",
    "    origin_airport_traffic.join(\n",
    "        destination_airport_traffic,\n",
    "        destination_airport_traffic[\"Destination_airport\"]\n",
    "        == origin_airport_traffic[\"Origin_airport\"],\n",
    "        \"inner\",\n",
    "    )\n",
    "    .select(\n",
    "        func.col(\"Origin_airport\").alias(\"Airport\"),\n",
    "        (\n",
    "            func.col(\"Origin_airport_Traffic\") + func.col(\"Destination_airport_traffic\")\n",
    "        ).alias(\"Total_Airport_Traffic\"),\n",
    "    )\n",
    "    .orderBy(func.desc(\"Total_Airport_Traffic\"))\n",
    ")\n",
    "\n",
    "AirportWithMostTraffic.show(10, truncate=False)"
   ]
  },
  {
   "cell_type": "code",
   "execution_count": 17,
   "metadata": {},
   "outputs": [
    {
     "name": "stderr",
     "output_type": "stream",
     "text": [
      "[Stage 45:=======================>                                  (2 + 3) / 5]\r"
     ]
    },
    {
     "name": "stdout",
     "output_type": "stream",
     "text": [
      "+-------+----------------------+\n",
      "|Airport|Total_Passengers_Visit|\n",
      "+-------+----------------------+\n",
      "|ATL    |1155078415            |\n",
      "|ORD    |1057666258            |\n",
      "|DFW    |915476247             |\n",
      "|LAX    |782482278             |\n",
      "|PHX    |591438147             |\n",
      "|LAS    |539736139             |\n",
      "|DTW    |502450897             |\n",
      "|MSP    |490971274             |\n",
      "|SFO    |486063162             |\n",
      "|IAH    |457473254             |\n",
      "+-------+----------------------+\n",
      "only showing top 10 rows\n",
      "\n"
     ]
    },
    {
     "name": "stderr",
     "output_type": "stream",
     "text": [
      "                                                                                \r"
     ]
    }
   ],
   "source": [
    "# Question 4 : Find the Airport with Most Passenger Footfall\n",
    "from pyspark.sql import functions as func\n",
    "\n",
    "Origin_Airport_Passengers_Visit = (\n",
    "    df.groupBy(func.col(\"Origin_airport\"))\n",
    "    .agg(func.sum(func.col(\"Passengers\")).alias(\"Origin_Total_Passengers\"))\n",
    "    .orderBy(func.desc(\"Origin_Total_Passengers\"))\n",
    ")\n",
    "\n",
    "Destination_Airport_Passengers_Visit = (\n",
    "    df.groupBy(func.col(\"Destination_airport\"))\n",
    "    .agg(func.sum(func.col(\"Passengers\")).alias(\"Destination_Total_Passengers\"))\n",
    "    .orderBy(func.desc(\"Destination_Total_Passengers\"))\n",
    ")\n",
    "\n",
    "Airport_With_Most_Passeners_Visit = (\n",
    "    Origin_Airport_Passengers_Visit.join(\n",
    "        Destination_Airport_Passengers_Visit,\n",
    "        Destination_Airport_Passengers_Visit[\"Destination_airport\"]\n",
    "        == Origin_Airport_Passengers_Visit[\"Origin_airport\"],\n",
    "        \"inner\",\n",
    "    )\n",
    "    .select(\n",
    "        func.col(\"Origin_airport\").alias(\"Airport\"),\n",
    "        (\n",
    "            func.col(\"Origin_Total_Passengers\")\n",
    "            + func.col(\"Destination_Total_Passengers\")\n",
    "        ).alias(\"Total_Passengers_Visit\"),\n",
    "    )\n",
    "    .orderBy(func.desc(\"Total_Passengers_Visit\"))\n",
    ")\n",
    "\n",
    "Airport_With_Most_Passeners_Visit.show(10, truncate=False)"
   ]
  },
  {
   "cell_type": "code",
   "execution_count": 4,
   "metadata": {},
   "outputs": [
    {
     "name": "stderr",
     "output_type": "stream",
     "text": [
      "[Stage 9:===============================================>           (4 + 1) / 5]\r"
     ]
    },
    {
     "name": "stdout",
     "output_type": "stream",
     "text": [
      "+---------+---------+-----------------------+-----------+-------------+-----------------+\n",
      "|Airport_1|Airport_2|Total_Passenger_Arrived|Total_Seats|Total_Flights|Occupancy_Rate   |\n",
      "+---------+---------+-----------------------+-----------+-------------+-----------------+\n",
      "|HNL      |OGG      |62109354               |96640901   |784873       |64.26818599300931|\n",
      "|HNL      |LAX      |57596315               |72737189   |276821       |79.1841364669729 |\n",
      "|LAS      |LAX      |52511530               |80532768   |588151       |65.20517213564546|\n",
      "|LAX      |SFO      |51119989               |79405656   |636449       |64.3782717442697 |\n",
      "|ATL      |MCO      |46237919               |59608322   |319861       |77.56956989998812|\n",
      "|LAX      |ORD      |45915774               |64140975   |366256       |71.58571256517382|\n",
      "|JFK      |LAX      |43871972               |63078113   |333413       |69.55181427193295|\n",
      "|LAS      |PHX      |42979048               |64844100   |460104       |66.28058373853597|\n",
      "|ATL      |DFW      |42941213               |59978776   |399696       |71.59401352238332|\n",
      "|LAX      |PHX      |42695385               |65619395   |515093       |65.06519147273455|\n",
      "+---------+---------+-----------------------+-----------+-------------+-----------------+\n",
      "\n"
     ]
    },
    {
     "name": "stderr",
     "output_type": "stream",
     "text": [
      "                                                                                \r"
     ]
    }
   ],
   "source": [
    "# Question 5 : Find the Occupancy Rate for Most Popular Routes\n",
    "from pyspark.sql import functions as func\n",
    "\n",
    "OverAll_Flight_Data = (\n",
    "    df.groupBy(\n",
    "        func.least(\n",
    "            func.col(\"Origin_airport\"),\n",
    "            func.col(\"Destination_airport\"),\n",
    "        ).alias(\"Airport_1\"),\n",
    "        func.greatest(\n",
    "            func.col(\"Origin_airport\"),\n",
    "            func.col(\"Destination_airport\"),\n",
    "        ).alias(\"Airport_2\"),\n",
    "    )\n",
    "    .agg(\n",
    "        func.sum(func.col(\"Passengers\")).alias(\"Total_Passenger_Arrived\"),\n",
    "        func.sum(func.col(\"Seats\")).alias(\"Total_Seats\"),\n",
    "        func.sum(func.col(\"Flights\")).alias(\"Total_Flights\"),\n",
    "    )\n",
    "    .orderBy(\n",
    "        func.desc(\n",
    "            func.col(\"Airport_1\"),\n",
    "        ),\n",
    "        func.desc(\n",
    "            func.col(\"Airport_2\"),\n",
    "        ),\n",
    "    )\n",
    ")\n",
    "\n",
    "Occupancy_Rate_Of_Most_Popular_Route = (\n",
    "    OverAll_Flight_Data.withColumn(\n",
    "        \"Occupancy_Rate\",\n",
    "        (func.col(\"Total_Passenger_Arrived\") * 100 / func.col(\"Total_Seats\")),\n",
    "    )\n",
    "    .filter(\n",
    "        (func.col(\"Occupancy_Rate\").isNotNull())\n",
    "        & (func.col(\"Occupancy_Rate\") > 0)\n",
    "        & (func.col(\"Occupancy_Rate\") <= 100)\n",
    "    )\n",
    "    .orderBy(\n",
    "        func.desc(\n",
    "            func.col(\"Total_Passenger_Arrived\"),\n",
    "        ),\n",
    "        func.desc(\n",
    "            func.col(\"Total_Seats\"),\n",
    "        ),\n",
    "        func.desc(\n",
    "            func.col(\"Total_Flights\"),\n",
    "        ),\n",
    "        func.desc(func.col(\"Occupancy_Rate\")),\n",
    "    )\n",
    "    .limit(10)\n",
    ")\n",
    "\n",
    "Occupancy_Rate_Of_Most_Popular_Route.show(truncate=False)"
   ]
  },
  {
   "cell_type": "code",
   "execution_count": 7,
   "metadata": {},
   "outputs": [
    {
     "name": "stderr",
     "output_type": "stream",
     "text": [
      "[Stage 12:==============================================>           (4 + 1) / 5]\r"
     ]
    },
    {
     "name": "stdout",
     "output_type": "stream",
     "text": [
      "+---------+---------+--------+-------------+\n",
      "|Airport_1|Airport_2|Distance|Total_Flights|\n",
      "+---------+---------+--------+-------------+\n",
      "|BDL      |HNL      |5018.0  |3            |\n",
      "|HNL      |JFK      |4983.0  |430          |\n",
      "|HIK      |JFK      |4983.0  |3            |\n",
      "|HNL      |LGA      |4976.0  |1            |\n",
      "|EWR      |HNL      |4962.0  |8320         |\n",
      "|JFK      |OGG      |4924.0  |1            |\n",
      "|HNL      |PHL      |4919.0  |1            |\n",
      "|HNL      |MIA      |4862.0  |9            |\n",
      "|HIK      |MIA      |4862.0  |1            |\n",
      "|HNL      |ISO      |4860.0  |1            |\n",
      "+---------+---------+--------+-------------+\n",
      "\n"
     ]
    },
    {
     "name": "stderr",
     "output_type": "stream",
     "text": [
      "                                                                                \r"
     ]
    }
   ],
   "source": [
    "# Question 6: Find the Number of Flights for Long Distance Journeys\n",
    "from pyspark.sql import functions as func\n",
    "\n",
    "Long_Journey_Flights = (\n",
    "    df.groupBy(\n",
    "        func.least(func.col(\"Origin_airport\"), func.col(\"Destination_airport\")).alias(\n",
    "            \"Airport_1\"\n",
    "        ),\n",
    "        func.greatest(\n",
    "            func.col(\"Origin_airport\"), func.col(\"Destination_airport\")\n",
    "        ).alias(\"Airport_2\"),\n",
    "    )\n",
    "    .agg(\n",
    "        func.mean(func.col(\"Distance\")).alias(\"Distance\"),\n",
    "        func.sum(func.col(\"Flights\")).alias(\"Total_Flights\"),\n",
    "    )\n",
    "    .filter((func.col(\"Total_Flights\") > 0) & (func.col(\"Total_Flights\").isNotNull()))\n",
    "    .orderBy(func.desc(func.col(\"Distance\")), func.desc(func.col(\"Total_Flights\")))\n",
    "    .limit(10)\n",
    ")\n",
    "\n",
    "Long_Journey_Flights.show(truncate=False)"
   ]
  },
  {
   "cell_type": "code",
   "execution_count": 12,
   "metadata": {},
   "outputs": [
    {
     "name": "stderr",
     "output_type": "stream",
     "text": [
      "[Stage 27:==============================================>           (4 + 1) / 5]\r"
     ]
    },
    {
     "name": "stdout",
     "output_type": "stream",
     "text": [
      "+---------+---------+------------------+-------------+\n",
      "|Airport_1|Airport_2|Average_Distance  |Total_Flights|\n",
      "+---------+---------+------------------+-------------+\n",
      "|HNL      |OGG      |100.0             |784873       |\n",
      "|LAX      |SFO      |337.0             |636449       |\n",
      "|LAS      |LAX      |236.0             |588151       |\n",
      "|PDX      |SEA      |129.0             |565707       |\n",
      "|LAX      |PHX      |370.0             |515093       |\n",
      "|BOS      |LGA      |185.0             |470737       |\n",
      "|MSP      |ORD      |334.0             |467514       |\n",
      "|LAS      |PHX      |255.96021840873635|460104       |\n",
      "|DCA      |LGA      |214.0             |439107       |\n",
      "|LAX      |SAN      |109.0             |431076       |\n",
      "+---------+---------+------------------+-------------+\n",
      "\n"
     ]
    },
    {
     "name": "stderr",
     "output_type": "stream",
     "text": [
      "                                                                                \r"
     ]
    }
   ],
   "source": [
    "# Question 7 : Find the Average Distances for Routes with Most Flights\n",
    "from pyspark.sql import functions as func\n",
    "\n",
    "Average_Distance_For_Most_Flights = (\n",
    "    df.groupBy(\n",
    "        func.least(func.col(\"Origin_airport\"), func.col(\"Destination_airport\")).alias(\n",
    "            \"Airport_1\"\n",
    "        ),\n",
    "        func.greatest(\n",
    "            func.col(\"Origin_airport\"), func.col(\"Destination_airport\")\n",
    "        ).alias(\"Airport_2\"),\n",
    "    )\n",
    "    .agg(\n",
    "        func.avg(func.col(\"Distance\")).alias(\"Average_Distance\"),\n",
    "        func.sum(func.col(\"Flights\")).alias(\"Total_Flights\"),\n",
    "    )\n",
    "    .filter((func.col(\"Total_Flights\") > 0) & (func.col(\"Total_Flights\").isNotNull()))\n",
    "    .orderBy(\n",
    "        func.desc(func.col(\"Total_Flights\")),\n",
    "        func.desc(func.col(\"Average_Distance\")),\n",
    "    )\n",
    "    .limit(10)\n",
    ")\n",
    "\n",
    "Average_Distance_For_Most_Flights.show(truncate=False)"
   ]
  }
 ],
 "metadata": {
  "kernelspec": {
   "display_name": "Python 3",
   "language": "python",
   "name": "python3"
  },
  "language_info": {
   "codemirror_mode": {
    "name": "ipython",
    "version": 3
   },
   "file_extension": ".py",
   "mimetype": "text/x-python",
   "name": "python",
   "nbconvert_exporter": "python",
   "pygments_lexer": "ipython3",
   "version": "3.10.12"
  }
 },
 "nbformat": 4,
 "nbformat_minor": 2
}
