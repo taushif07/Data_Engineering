{
 "cells": [
  {
   "cell_type": "code",
   "execution_count": 2,
   "metadata": {},
   "outputs": [
    {
     "name": "stdout",
     "output_type": "stream",
     "text": [
      "+-------+-------------------+-------------------+--------+\n",
      "|ID     |Start_Date         |End_Date           |Data    |\n",
      "+-------+-------------------+-------------------+--------+\n",
      "|6696902|2024-02-02 10:30:00|2024-02-02 11:30:00|xfbxcvbx|\n",
      "|6696902|2024-02-02 11:30:00|2024-02-02 12:30:00|xfbxcvbx|\n",
      "|6696902|2024-02-02 12:30:00|2024-02-02 13:30:00|xfbxcvbx|\n",
      "|6696902|2024-02-02 13:30:00|2024-02-02 14:30:00|xfbxcvbx|\n",
      "|6696902|2024-02-02 14:30:00|2024-02-02 15:30:00|xfbxcvbx|\n",
      "|6696902|2024-02-02 15:30:00|2024-02-02 16:30:00|xfbxcvbx|\n",
      "|6696902|2024-02-02 16:30:00|2024-02-02 17:30:00|xfbxcvbx|\n",
      "|6696902|2024-02-02 17:30:00|2024-02-02 18:30:00|xfbxcvbx|\n",
      "|8535098|2024-02-02 09:30:00|2024-02-02 10:30:00|xfbxcvbx|\n",
      "|8535098|2024-02-02 10:30:00|2024-02-02 11:30:00|xfbxcvbx|\n",
      "|8535098|2024-02-02 11:30:00|2024-02-02 12:30:00|xfbxcvbx|\n",
      "|8535098|2024-02-02 12:30:00|2024-02-02 13:30:00|xfbxcvbx|\n",
      "|8535098|2024-02-02 13:30:00|2024-02-02 14:30:00|xfbxcvbx|\n",
      "|8535098|2024-02-02 14:30:00|2024-02-02 15:30:00|xfbxcvbx|\n",
      "|8535098|2024-02-02 15:30:00|2024-02-02 16:30:00|xfbxcvbx|\n",
      "|8535098|2024-02-02 16:30:00|2024-02-02 17:30:00|xfbxcvbx|\n",
      "|8535098|2024-02-02 17:30:00|2024-02-02 18:30:00|xfbxcvbx|\n",
      "|8858051|2024-02-02 19:30:00|2024-02-02 20:30:00|xfbxcvbx|\n",
      "|8858051|2024-02-02 20:30:00|2024-02-02 21:30:00|xfbxcvbx|\n",
      "|8858051|2024-02-02 21:30:00|2024-02-02 22:30:00|xfbxcvbx|\n",
      "+-------+-------------------+-------------------+--------+\n",
      "only showing top 20 rows\n",
      "\n"
     ]
    }
   ],
   "source": [
    "from pyspark.sql import SparkSession\n",
    "from pyspark.sql.functions import expr\n",
    "from pyspark.sql.types import (\n",
    "    StructField,\n",
    "    StructType,\n",
    "    IntegerType,\n",
    "    TimestampType,\n",
    "    StringType,\n",
    ")\n",
    "from datetime import datetime\n",
    "\n",
    "spark = SparkSession.builder.appName(\"Assignment_1\").getOrCreate()\n",
    "\n",
    "\n",
    "def ParseDateAndTime(dt_str):\n",
    "    return datetime.strptime(dt_str, \"%Y-%m-%d %H:%M:%S\")\n",
    "\n",
    "\n",
    "data = [\n",
    "    (6696902, \"2024-02-02 10:30:00\", \"2024-02-02 18:17:00\", \"xfbxcvbx\"),\n",
    "    (8535098, \"2024-02-02 09:30:00\", \"2024-02-02 18:17:00\", \"xfbxcvbx\"),\n",
    "    (8858051, \"2024-02-02 19:30:00\", \"2024-02-02 22:30:00\", \"xfbxcvbx\"),\n",
    "]\n",
    "\n",
    "newData = [\n",
    "    (newData[0], ParseDateAndTime(newData[1]), ParseDateAndTime(newData[2]), newData[3])\n",
    "    for newData in data\n",
    "]\n",
    "\n",
    "\n",
    "schema = StructType(\n",
    "    [\n",
    "        StructField(\"ID\", IntegerType(), True),\n",
    "        StructField(\"Start_Date\", TimestampType(), True),\n",
    "        StructField(\"End_Date\", TimestampType(), True),\n",
    "        StructField(\"Data\", StringType(), True),\n",
    "    ]\n",
    ")\n",
    "\n",
    "df = spark.createDataFrame(newData, schema=schema)\n",
    "\n",
    "df_hourly = df.withColumn(\n",
    "    \"Hourly_Interval\", expr(\"explode(sequence(Start_Date, End_Date, Interval 1 Hour))\")\n",
    ").selectExpr(\n",
    "    \"ID\",\n",
    "    \"Hourly_Interval as Start_Date\",\n",
    "    \"Hourly_Interval + Interval '1' Hour as End_Date\",\n",
    "    \"Data\",\n",
    ")\n",
    "\n",
    "df_hourly.show(truncate=False)"
   ]
  }
 ],
 "metadata": {
  "kernelspec": {
   "display_name": "Python 3",
   "language": "python",
   "name": "python3"
  },
  "language_info": {
   "codemirror_mode": {
    "name": "ipython",
    "version": 3
   },
   "file_extension": ".py",
   "mimetype": "text/x-python",
   "name": "python",
   "nbconvert_exporter": "python",
   "pygments_lexer": "ipython3",
   "version": "3.10.12"
  }
 },
 "nbformat": 4,
 "nbformat_minor": 2
}
